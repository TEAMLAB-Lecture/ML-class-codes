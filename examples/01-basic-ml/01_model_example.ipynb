{
 "cells": [
  {
   "cell_type": "code",
   "execution_count": null,
   "metadata": {},
   "outputs": [],
   "source": [
    "# 필요한 라이브러리 임포트\n",
    "import pandas as pd\n",
    "import numpy as np"
   ]
  },
  {
   "cell_type": "code",
   "execution_count": null,
   "metadata": {},
   "outputs": [
    {
     "ename": "",
     "evalue": "",
     "output_type": "error",
     "traceback": [
      "\u001b[1;31mRunning cells with '.conda (Python 3.11.9)' requires the ipykernel package.\n",
      "\u001b[1;31mRun the following command to install 'ipykernel' into the Python environment. \n",
      "\u001b[1;31mCommand: 'conda install -p c:\\Users\\최성철\\workspace\\testset_builder\\.conda ipykernel --update-deps --force-reinstall'"
     ]
    }
   ],
   "source": [
    "# UCI 머신러닝 저장소에서 California Housing 데이터셋 로드\n",
    "data_url = 'https://archive.ics.uci.edu/ml/machine-learning-databases/housing/housing.data'\n",
    "df_data = pd.read_csv(data_url, sep='\\s+', header=None)\n",
    "\n",
    "# 열 이름 지정\n",
    "df_data.columns = ['CRIM', 'ZN', 'INDUS', 'CHAS', 'NOX', 'RM', 'AGE', \n",
    "                   'DIS', 'RAD', 'TAX', 'PTRATIO', 'B', 'LSTAT', 'MEDV']\n",
    "\n",
    "# 데이터 상위 5행 확인\n",
    "df_data.head()"
   ]
  },
  {
   "cell_type": "code",
   "execution_count": null,
   "metadata": {},
   "outputs": [],
   "source": [
    "# 간단한 벡터 내적 예제\n",
    "weight_vector = np.array([[1], [1], [1]])  # 가중치 벡터: 3x1 행렬\n",
    "x_vector = np.array([[3], [4], [5]])       # 입력 벡터: 3x1 행렬\n",
    "\n",
    "# 벡터 내적 계산\n",
    "result = weight_vector.T.dot(x_vector)\n",
    "print(\"벡터 내적 결과:\", result)"
   ]
  },
  {
   "cell_type": "code",
   "execution_count": null,
   "metadata": {},
   "outputs": [],
   "source": [
    "# 절편(bias) 항을 위한 weight_0 열 추가\n",
    "df_data['weight_0'] = 1\n",
    "\n",
    "# 목표 변수(MEDV) 분리\n",
    "df_data = df_data.drop(\"MEDV\", axis=1)\n",
    "\n",
    "# 데이터 확인\n",
    "print(\"데이터 shape:\", df_data.values.shape)\n",
    "df_data.head()"
   ]
  },
  {
   "cell_type": "code",
   "execution_count": null,
   "metadata": {},
   "outputs": [],
   "source": [
    "# 행렬 변환\n",
    "df_matrix = df_data.values\n",
    "\n",
    "# 랜덤 가중치 벡터 생성\n",
    "weight_vector = np.random.random_sample((14, 1))\n",
    "print(\"가중치 벡터:\\n\", weight_vector)\n",
    "\n",
    "# 행렬 곱 연산\n",
    "predictions = df_matrix.dot(weight_vector)\n",
    "print(\"\\n예측값 처음 5개:\\n\", predictions[:5])"
   ]
  }
 ],
 "metadata": {
  "kernelspec": {
   "display_name": "Python 3",
   "language": "python",
   "name": "python3"
  },
  "language_info": {
   "name": "python",
   "version": "3.11.9"
  }
 },
 "nbformat": 4,
 "nbformat_minor": 2
}
