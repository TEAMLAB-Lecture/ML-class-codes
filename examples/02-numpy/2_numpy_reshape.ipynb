{
 "cells": [
  {
   "cell_type": "code",
   "execution_count": null,
   "metadata": {
    "vscode": {
     "languageId": "plaintext"
    }
   },
   "outputs": [],
   "source": [
    "# 1. NumPy 임포트\n",
    "import numpy as np\n"
   ]
  },
  {
   "cell_type": "code",
   "execution_count": null,
   "metadata": {
    "vscode": {
     "languageId": "plaintext"
    }
   },
   "outputs": [],
   "source": [
    "\n",
    "# 2. 기본 배열 생성\n",
    "# 2.1 1차원 배열\n",
    "arr_1d = np.array([1, 2, 3, 4, 5, 6, 7, 8])\n",
    "print(\"1차원 배열:\", arr_1d)\n",
    "print(\"1차원 배열 shape:\", arr_1d.shape)\n"
   ]
  },
  {
   "cell_type": "code",
   "execution_count": null,
   "metadata": {
    "vscode": {
     "languageId": "plaintext"
    }
   },
   "outputs": [],
   "source": [
    "\n",
    "# 2.2 2차원 배열\n",
    "arr_2d = np.array([[1, 2, 3, 4], [5, 6, 7, 8]])\n",
    "print(\"\\n2차원 배열:\\n\", arr_2d)\n",
    "print(\"2차원 배열 shape:\", arr_2d.shape)\n"
   ]
  },
  {
   "cell_type": "code",
   "execution_count": null,
   "metadata": {
    "vscode": {
     "languageId": "plaintext"
    }
   },
   "outputs": [],
   "source": [
    "\n",
    "# 3. reshape() 함수 사용\n",
    "# 3.1 2차원으로 변환\n",
    "arr_2d_reshaped = arr_1d.reshape(2, 4)\n",
    "print(\"\\n2x4 형태로 변환:\\n\", arr_2d_reshaped)\n",
    "print(\"변환된 배열 shape:\", arr_2d_reshaped.shape)\n"
   ]
  },
  {
   "cell_type": "code",
   "execution_count": null,
   "metadata": {
    "vscode": {
     "languageId": "plaintext"
    }
   },
   "outputs": [],
   "source": [
    "\n",
    "# 3.2 3차원으로 변환\n",
    "arr_3d = arr_1d.reshape(2, 2, 2)\n",
    "print(\"\\n2x2x2 형태로 변환:\\n\", arr_3d)\n",
    "print(\"변환된 배열 shape:\", arr_3d.shape)\n"
   ]
  },
  {
   "cell_type": "code",
   "execution_count": null,
   "metadata": {
    "vscode": {
     "languageId": "plaintext"
    }
   },
   "outputs": [],
   "source": [
    "\n",
    "# 4. 자동 크기 계산 (-1 사용)\n",
    "# 4.1 열 개수 자동 계산\n",
    "arr_auto_col = arr_1d.reshape(2, -1)\n",
    "print(\"\\n열 개수 자동 계산 (2x4):\\n\", arr_auto_col)\n",
    "print(\"변환된 배열 shape:\", arr_auto_col.shape)\n"
   ]
  },
  {
   "cell_type": "code",
   "execution_count": null,
   "metadata": {
    "vscode": {
     "languageId": "plaintext"
    }
   },
   "outputs": [],
   "source": [
    "\n",
    "# 4.2 행 개수 자동 계산\n",
    "arr_auto_row = arr_1d.reshape(-1, 4)\n",
    "print(\"\\n행 개수 자동 계산 (2x4):\\n\", arr_auto_row)\n",
    "print(\"변환된 배열 shape:\", arr_auto_row.shape)\n"
   ]
  },
  {
   "cell_type": "code",
   "execution_count": null,
   "metadata": {
    "vscode": {
     "languageId": "plaintext"
    }
   },
   "outputs": [],
   "source": [
    "\n",
    "# 5. 배열 평탄화 (flatten)\n",
    "# 5.1 flatten() 함수 사용\n",
    "arr_flat = arr_2d.flatten()\n",
    "print(\"\\nflatten() 함수로 평탄화:\", arr_flat)\n",
    "print(\"평탄화된 배열 shape:\", arr_flat.shape)\n"
   ]
  },
  {
   "cell_type": "code",
   "execution_count": null,
   "metadata": {
    "vscode": {
     "languageId": "plaintext"
    }
   },
   "outputs": [],
   "source": [
    "\n",
    "# 5.2 ravel() 함수 사용 (뷰 반환)\n",
    "arr_ravel = arr_2d.ravel()\n",
    "print(\"\\nravel() 함수로 평탄화:\", arr_ravel)\n",
    "print(\"평탄화된 배열 shape:\", arr_ravel.shape)\n"
   ]
  },
  {
   "cell_type": "code",
   "execution_count": null,
   "metadata": {
    "vscode": {
     "languageId": "plaintext"
    }
   },
   "outputs": [],
   "source": [
    "\n",
    "# 6. reshape와 copy\n",
    "# 6.1 reshape는 뷰를 반환\n",
    "arr_view = arr_1d.reshape(2, 4)\n",
    "arr_view[0, 0] = 100\n",
    "print(\"\\nreshape 후 원본 배열:\", arr_1d)\n"
   ]
  },
  {
   "cell_type": "code",
   "execution_count": null,
   "metadata": {
    "vscode": {
     "languageId": "plaintext"
    }
   },
   "outputs": [],
   "source": [
    "\n",
    "# 6.2 copy()를 사용한 새로운 배열 생성\n",
    "arr_copy = arr_1d.reshape(2, 4).copy()\n",
    "arr_copy[0, 0] = 200\n",
    "print(\"copy() 사용 후 원본 배열:\", arr_1d)\n"
   ]
  },
  {
   "cell_type": "code",
   "execution_count": null,
   "metadata": {
    "vscode": {
     "languageId": "plaintext"
    }
   },
   "outputs": [],
   "source": [
    "\n",
    "# 7. 실전 예제\n",
    "# 7.1 이미지 데이터 형태 변환 (예: 28x28 이미지를 784로 변환)\n",
    "image = np.random.rand(28, 28)  # 예시 이미지\n",
    "flattened_image = image.reshape(784)\n",
    "print(\"\\n이미지 변환 예제:\")\n",
    "print(\"원본 이미지 shape:\", image.shape)\n",
    "print(\"변환된 이미지 shape:\", flattened_image.shape)\n"
   ]
  },
  {
   "cell_type": "code",
   "execution_count": null,
   "metadata": {
    "vscode": {
     "languageId": "plaintext"
    }
   },
   "outputs": [],
   "source": [
    "\n",
    "# 7.2 배치 데이터 형태 변환 (예: 100개의 28x28 이미지를 100x784로 변환)\n",
    "batch_images = np.random.rand(100, 28, 28)  # 예시 배치 데이터\n",
    "flattened_batch = batch_images.reshape(100, 784)\n",
    "print(\"\\n배치 데이터 변환 예제:\")\n",
    "print(\"원본 배치 shape:\", batch_images.shape)\n",
    "print(\"변환된 배치 shape:\", flattened_batch.shape)"
   ]
  }
 ],
 "metadata": {
  "anaconda-cloud": {},
  "kernelspec": {
   "display_name": "Python 3",
   "language": "python",
   "name": "python3"
  },
  "language_info": {
   "codemirror_mode": {
    "name": "ipython",
    "version": 3
   },
   "file_extension": ".py",
   "mimetype": "text/x-python",
   "name": "python",
   "nbconvert_exporter": "python",
   "pygments_lexer": "ipython3",
   "version": "3.6.2"
  },
  "nav_menu": {},
  "toc": {
   "navigate_menu": true,
   "number_sections": true,
   "sideBar": true,
   "threshold": 6,
   "toc_cell": false,
   "toc_section_display": "block",
   "toc_window_display": false
  }
 },
 "nbformat": 4,
 "nbformat_minor": 2
}
