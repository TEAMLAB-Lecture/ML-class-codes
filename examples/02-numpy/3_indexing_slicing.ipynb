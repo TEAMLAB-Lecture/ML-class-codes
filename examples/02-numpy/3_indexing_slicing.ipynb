{
 "cells": [
  {
   "cell_type": "code",
   "execution_count": null,
   "metadata": {
    "vscode": {
     "languageId": "plaintext"
    }
   },
   "outputs": [],
   "source": [
    "# 1. NumPy 임포트\n",
    "import numpy as np\n"
   ]
  },
  {
   "cell_type": "code",
   "execution_count": null,
   "metadata": {
    "vscode": {
     "languageId": "plaintext"
    }
   },
   "outputs": [],
   "source": [
    "\n",
    "# 2. 기본 배열 생성\n",
    "# 2.1 1차원 배열\n",
    "arr_1d = np.array([1, 2, 3, 4, 5, 6, 7, 8])\n",
    "print(\"1차원 배열:\", arr_1d)\n"
   ]
  },
  {
   "cell_type": "code",
   "execution_count": null,
   "metadata": {
    "vscode": {
     "languageId": "plaintext"
    }
   },
   "outputs": [],
   "source": [
    "\n",
    "# 2.2 2차원 배열\n",
    "arr_2d = np.array([[1, 2, 3, 4], \n",
    "                   [5, 6, 7, 8],\n",
    "                   [9, 10, 11, 12]])\n",
    "print(\"\\n2차원 배열:\\n\", arr_2d)\n"
   ]
  },
  {
   "cell_type": "code",
   "execution_count": null,
   "metadata": {
    "vscode": {
     "languageId": "plaintext"
    }
   },
   "outputs": [],
   "source": [
    "\n",
    "# 3. 기본 인덱싱\n",
    "# 3.1 1차원 배열 인덱싱\n",
    "print(\"\\n1차원 배열 인덱싱:\")\n",
    "print(\"첫 번째 원소:\", arr_1d[0])\n",
    "print(\"마지막 원소:\", arr_1d[-1])\n",
    "print(\"두 번째 원소:\", arr_1d[1])\n"
   ]
  },
  {
   "cell_type": "code",
   "execution_count": null,
   "metadata": {
    "vscode": {
     "languageId": "plaintext"
    }
   },
   "outputs": [],
   "source": [
    "\n",
    "# 3.2 2차원 배열 인덱싱\n",
    "print(\"\\n2차원 배열 인덱싱:\")\n",
    "print(\"첫 번째 행:\", arr_2d[0])\n",
    "print(\"첫 번째 열:\", arr_2d[:, 0])\n",
    "print(\"(1,1) 위치의 원소:\", arr_2d[1, 1])\n"
   ]
  },
  {
   "cell_type": "code",
   "execution_count": null,
   "metadata": {
    "vscode": {
     "languageId": "plaintext"
    }
   },
   "outputs": [],
   "source": [
    "\n",
    "# 4. 슬라이싱\n",
    "# 4.1 1차원 배열 슬라이싱\n",
    "print(\"\\n1차원 배열 슬라이싱:\")\n",
    "print(\"처음부터 4까지:\", arr_1d[:4])\n",
    "print(\"2부터 6까지:\", arr_1d[1:6])\n",
    "print(\"2부터 끝까지:\", arr_1d[1:])\n",
    "print(\"처음부터 6까지 2칸씩:\", arr_1d[:6:2])\n"
   ]
  },
  {
   "cell_type": "code",
   "execution_count": null,
   "metadata": {
    "vscode": {
     "languageId": "plaintext"
    }
   },
   "outputs": [],
   "source": [
    "\n",
    "# 4.2 2차원 배열 슬라이싱\n",
    "print(\"\\n2차원 배열 슬라이싱:\")\n",
    "print(\"처음 두 행:\\n\", arr_2d[:2])\n",
    "print(\"마지막 두 행:\\n\", arr_2d[1:])\n",
    "print(\"처음 두 열:\\n\", arr_2d[:, :2])\n",
    "print(\"2-3열:\\n\", arr_2d[:, 1:3])\n"
   ]
  },
  {
   "cell_type": "code",
   "execution_count": null,
   "metadata": {
    "vscode": {
     "languageId": "plaintext"
    }
   },
   "outputs": [],
   "source": [
    "\n",
    "# 5. 고급 인덱싱\n",
    "# 5.1 불리언 인덱싱\n",
    "bool_mask = arr_1d > 3\n",
    "print(\"\\n불리언 인덱싱:\")\n",
    "print(\"3보다 큰 원소:\", arr_1d[bool_mask])\n"
   ]
  },
  {
   "cell_type": "code",
   "execution_count": null,
   "metadata": {
    "vscode": {
     "languageId": "plaintext"
    }
   },
   "outputs": [],
   "source": [
    "\n",
    "# 5.2 정수 배열 인덱싱\n",
    "print(\"\\n정수 배열 인덱싱:\")\n",
    "print(\"인덱스 0,2,4의 원소:\", arr_1d[[0, 2, 4]])\n"
   ]
  },
  {
   "cell_type": "code",
   "execution_count": null,
   "metadata": {
    "vscode": {
     "languageId": "plaintext"
    }
   },
   "outputs": [],
   "source": [
    "\n",
    "# 6. 배열 수정\n",
    "# 6.1 단일 원소 수정\n",
    "arr_2d[0, 0] = 100\n",
    "print(\"\\n(0,0) 위치 수정:\\n\", arr_2d)\n"
   ]
  },
  {
   "cell_type": "code",
   "execution_count": null,
   "metadata": {
    "vscode": {
     "languageId": "plaintext"
    }
   },
   "outputs": [],
   "source": [
    "\n",
    "# 6.2 슬라이스 수정\n",
    "arr_2d[0, :] = 0\n",
    "print(\"\\n첫 번째 행을 0으로 수정:\\n\", arr_2d)\n"
   ]
  },
  {
   "cell_type": "code",
   "execution_count": null,
   "metadata": {
    "vscode": {
     "languageId": "plaintext"
    }
   },
   "outputs": [],
   "source": [
    "\n",
    "# 7. 실전 예제\n",
    "# 7.1 이미지 처리 예제\n",
    "image = np.random.rand(10, 10)  # 10x10 이미지\n",
    "print(\"\\n이미지 처리 예제:\")\n",
    "print(\"원본 이미지:\\n\", image)\n",
    "print(\"이미지 중앙 4x4 영역:\\n\", image[3:7, 3:7])\n"
   ]
  },
  {
   "cell_type": "code",
   "execution_count": null,
   "metadata": {
    "vscode": {
     "languageId": "plaintext"
    }
   },
   "outputs": [],
   "source": [
    "\n",
    "# 7.2 데이터 필터링 예제\n",
    "data = np.array([1, 2, 3, 4, 5, 6, 7, 8, 9, 10])\n",
    "print(\"\\n데이터 필터링 예제:\")\n",
    "print(\"3보다 크고 8보다 작은 값:\", data[(data > 3) & (data < 8)])\n"
   ]
  },
  {
   "cell_type": "code",
   "execution_count": null,
   "metadata": {
    "vscode": {
     "languageId": "plaintext"
    }
   },
   "outputs": [],
   "source": [
    "\n",
    "# 8. 주의사항\n",
    "# 8.1 뷰와 복사본\n",
    "arr_view = arr_2d[1:3, 1:3]  # 뷰 생성\n",
    "arr_copy = arr_2d[1:3, 1:3].copy()  # 복사본 생성\n",
    "print(\"\\n뷰와 복사본 차이:\")\n",
    "print(\"원본 배열:\\n\", arr_2d)\n",
    "arr_view[0, 0] = 999\n",
    "print(\"뷰 수정 후 원본:\\n\", arr_2d)\n",
    "arr_copy[0, 0] = 888\n",
    "print(\"복사본 수정 후 원본:\\n\", arr_2d)"
   ]
  }
 ],
 "metadata": {
  "kernelspec": {
   "display_name": "Python 3",
   "language": "python",
   "name": "python3"
  },
  "language_info": {
   "codemirror_mode": {
    "name": "ipython",
    "version": 3
   },
   "file_extension": ".py",
   "mimetype": "text/x-python",
   "name": "python",
   "nbconvert_exporter": "python",
   "pygments_lexer": "ipython3",
   "version": "3.6.2"
  },
  "nav_menu": {},
  "toc": {
   "navigate_menu": true,
   "number_sections": true,
   "sideBar": true,
   "threshold": 6,
   "toc_cell": false,
   "toc_section_display": "block",
   "toc_window_display": false
  }
 },
 "nbformat": 4,
 "nbformat_minor": 2
}
