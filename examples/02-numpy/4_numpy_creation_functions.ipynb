{
 "cells": [
  {
   "cell_type": "code",
   "execution_count": null,
   "metadata": {
    "vscode": {
     "languageId": "plaintext"
    }
   },
   "outputs": [],
   "source": [
    "# 1. NumPy 임포트\n",
    "import numpy as np\n"
   ]
  },
  {
   "cell_type": "code",
   "execution_count": null,
   "metadata": {
    "vscode": {
     "languageId": "plaintext"
    }
   },
   "outputs": [],
   "source": [
    "\n",
    "# 2. 기본 배열 생성 함수\n",
    "# 2.1 zeros() - 0으로 채워진 배열\n",
    "zeros_1d = np.zeros(5)\n",
    "zeros_2d = np.zeros((3, 4))\n",
    "print(\"1차원 zeros 배열:\", zeros_1d)\n",
    "print(\"\\n2차원 zeros 배열:\\n\", zeros_2d)\n"
   ]
  },
  {
   "cell_type": "code",
   "execution_count": null,
   "metadata": {
    "vscode": {
     "languageId": "plaintext"
    }
   },
   "outputs": [],
   "source": [
    "\n",
    "# 2.2 ones() - 1로 채워진 배열\n",
    "ones_1d = np.ones(5)\n",
    "ones_2d = np.ones((3, 4))\n",
    "print(\"\\n1차원 ones 배열:\", ones_1d)\n",
    "print(\"\\n2차원 ones 배열:\\n\", ones_2d)\n"
   ]
  },
  {
   "cell_type": "code",
   "execution_count": null,
   "metadata": {
    "vscode": {
     "languageId": "plaintext"
    }
   },
   "outputs": [],
   "source": [
    "\n",
    "# 2.3 full() - 특정 값으로 채워진 배열\n",
    "full_2d = np.full((3, 4), 7)\n",
    "print(\"\\n7로 채워진 2차원 배열:\\n\", full_2d)\n"
   ]
  },
  {
   "cell_type": "code",
   "execution_count": null,
   "metadata": {
    "vscode": {
     "languageId": "plaintext"
    }
   },
   "outputs": [],
   "source": [
    "\n",
    "# 3. 특수 배열 생성 함수\n",
    "# 3.1 eye() - 단위 행렬\n",
    "eye_3x3 = np.eye(3)\n",
    "print(\"\\n3x3 단위 행렬:\\n\", eye_3x3)\n"
   ]
  },
  {
   "cell_type": "code",
   "execution_count": null,
   "metadata": {
    "vscode": {
     "languageId": "plaintext"
    }
   },
   "outputs": [],
   "source": [
    "\n",
    "# 3.2 diag() - 대각 행렬\n",
    "diag_matrix = np.diag([1, 2, 3, 4])\n",
    "print(\"\\n대각 행렬:\\n\", diag_matrix)\n"
   ]
  },
  {
   "cell_type": "code",
   "execution_count": null,
   "metadata": {
    "vscode": {
     "languageId": "plaintext"
    }
   },
   "outputs": [],
   "source": [
    "\n",
    "# 4. 수열 생성 함수\n",
    "# 4.1 arange() - 일정 간격의 수열\n",
    "arr_arange = np.arange(0, 10, 2)  # 0부터 10까지 2간격으로\n",
    "print(\"\\narange로 생성한 배열:\", arr_arange)\n"
   ]
  },
  {
   "cell_type": "code",
   "execution_count": null,
   "metadata": {
    "vscode": {
     "languageId": "plaintext"
    }
   },
   "outputs": [],
   "source": [
    "\n",
    "# 4.2 linspace() - 균일한 간격의 수열\n",
    "arr_linspace = np.linspace(0, 1, 5)  # 0부터 1까지 5개의 균일한 간격\n",
    "print(\"\\nlinspace로 생성한 배열:\", arr_linspace)\n"
   ]
  },
  {
   "cell_type": "code",
   "execution_count": null,
   "metadata": {
    "vscode": {
     "languageId": "plaintext"
    }
   },
   "outputs": [],
   "source": [
    "\n",
    "# 4.3 logspace() - 로그 스케일의 수열\n",
    "arr_logspace = np.logspace(0, 2, 5)  # 10^0부터 10^2까지 5개의 로그 간격\n",
    "print(\"\\nlogspace로 생성한 배열:\", arr_logspace)\n"
   ]
  },
  {
   "cell_type": "code",
   "execution_count": null,
   "metadata": {
    "vscode": {
     "languageId": "plaintext"
    }
   },
   "outputs": [],
   "source": [
    "\n",
    "# 5. 랜덤 배열 생성 함수\n",
    "# 5.1 random.rand() - 0~1 사이의 균일 분포\n",
    "rand_array = np.random.rand(3, 4)\n",
    "print(\"\\nrandom.rand로 생성한 배열:\\n\", rand_array)\n"
   ]
  },
  {
   "cell_type": "code",
   "execution_count": null,
   "metadata": {
    "vscode": {
     "languageId": "plaintext"
    }
   },
   "outputs": [],
   "source": [
    "\n",
    "# 5.2 random.randn() - 표준정규분포\n",
    "randn_array = np.random.randn(3, 4)\n",
    "print(\"\\nrandom.randn으로 생성한 배열:\\n\", randn_array)\n"
   ]
  },
  {
   "cell_type": "code",
   "execution_count": null,
   "metadata": {
    "vscode": {
     "languageId": "plaintext"
    }
   },
   "outputs": [],
   "source": [
    "\n",
    "# 5.3 random.randint() - 정수 난수\n",
    "randint_array = np.random.randint(0, 10, (3, 4))\n",
    "print(\"\\nrandom.randint으로 생성한 배열:\\n\", randint_array)\n"
   ]
  },
  {
   "cell_type": "code",
   "execution_count": null,
   "metadata": {
    "vscode": {
     "languageId": "plaintext"
    }
   },
   "outputs": [],
   "source": [
    "\n",
    "# 6. 실전 예제\n",
    "# 6.1 신경망 가중치 초기화\n",
    "weights = np.random.randn(5, 3) * 0.01\n",
    "print(\"\\n신경망 가중치 초기화 예제:\\n\", weights)\n"
   ]
  },
  {
   "cell_type": "code",
   "execution_count": null,
   "metadata": {
    "vscode": {
     "languageId": "plaintext"
    }
   },
   "outputs": [],
   "source": [
    "\n",
    "# 6.2 이미지 데이터 생성\n",
    "image = np.random.randint(0, 256, (10, 10))\n",
    "print(\"\\n이미지 데이터 생성 예제:\\n\", image)\n"
   ]
  },
  {
   "cell_type": "code",
   "execution_count": null,
   "metadata": {
    "vscode": {
     "languageId": "plaintext"
    }
   },
   "outputs": [],
   "source": [
    "\n",
    "# 7. 데이터 타입 지정\n",
    "# 7.1 정수형 배열\n",
    "int_array = np.zeros(5, dtype=np.int32)\n",
    "print(\"\\n정수형 zeros 배열:\", int_array)\n"
   ]
  },
  {
   "cell_type": "code",
   "execution_count": null,
   "metadata": {
    "vscode": {
     "languageId": "plaintext"
    }
   },
   "outputs": [],
   "source": [
    "\n",
    "# 7.2 실수형 배열\n",
    "float_array = np.ones(5, dtype=np.float64)\n",
    "print(\"\\n실수형 ones 배열:\", float_array)\n"
   ]
  },
  {
   "cell_type": "code",
   "execution_count": null,
   "metadata": {
    "vscode": {
     "languageId": "plaintext"
    }
   },
   "outputs": [],
   "source": [
    "\n",
    "# 8. 메모리 최적화\n",
    "# 8.1 메모리 사용량 비교\n",
    "arr_int32 = np.zeros(1000, dtype=np.int32)\n",
    "arr_int64 = np.zeros(1000, dtype=np.int64)\n",
    "print(\"\\n메모리 사용량 비교:\")\n",
    "print(\"int32 배열 메모리:\", arr_int32.nbytes, \"bytes\")\n",
    "print(\"int64 배열 메모리:\", arr_int64.nbytes, \"bytes\")\n"
   ]
  },
  {
   "cell_type": "code",
   "execution_count": null,
   "metadata": {
    "vscode": {
     "languageId": "plaintext"
    }
   },
   "outputs": [],
   "source": [
    "\n",
    "# 9. 실용적인 예제\n",
    "# 9.1 그리드 생성\n",
    "x = np.linspace(-5, 5, 100)\n",
    "y = np.linspace(-5, 5, 100)\n",
    "X, Y = np.meshgrid(x, y)\n",
    "print(\"\\n그리드 생성 예제:\")\n",
    "print(\"X shape:\", X.shape)\n",
    "print(\"Y shape:\", Y.shape)\n"
   ]
  },
  {
   "cell_type": "code",
   "execution_count": null,
   "metadata": {
    "vscode": {
     "languageId": "plaintext"
    }
   },
   "outputs": [],
   "source": [
    "\n",
    "# 9.2 마스크 생성\n",
    "mask = np.zeros((5, 5), dtype=bool)\n",
    "mask[1:4, 1:4] = True\n",
    "print(\"\\n마스크 생성 예제:\\n\", mask)"
   ]
  }
 ],
 "metadata": {
  "anaconda-cloud": {},
  "kernelspec": {
   "display_name": "Python 3",
   "language": "python",
   "name": "python3"
  },
  "language_info": {
   "codemirror_mode": {
    "name": "ipython",
    "version": 3
   },
   "file_extension": ".py",
   "mimetype": "text/x-python",
   "name": "python",
   "nbconvert_exporter": "python",
   "pygments_lexer": "ipython3",
   "version": "3.6.2"
  },
  "nav_menu": {},
  "toc": {
   "navigate_menu": true,
   "number_sections": true,
   "sideBar": true,
   "threshold": 6,
   "toc_cell": false,
   "toc_section_display": "block",
   "toc_window_display": false
  }
 },
 "nbformat": 4,
 "nbformat_minor": 2
}
